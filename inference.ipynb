{
 "cells": [
  {
   "cell_type": "code",
   "execution_count": 1,
   "metadata": {},
   "outputs": [],
   "source": [
    "import pandas as pd\n"
   ]
  },
  {
   "cell_type": "code",
   "execution_count": 6,
   "metadata": {},
   "outputs": [
    {
     "name": "stdout",
     "output_type": "stream",
     "text": [
      "README.md        demo_cbam.sh     main.py          trainer.py\r\n",
      "README2.md       \u001b[34mexperiment\u001b[m\u001b[m       \u001b[34mmodel\u001b[m\u001b[m            \u001b[34mutils\u001b[m\u001b[m\r\n",
      "\u001b[34m__pycache__\u001b[m\u001b[m      inference.ipynb  option.py\r\n",
      "\u001b[34mdata\u001b[m\u001b[m             inference.py     requirements.txt\r\n",
      "demo.sh          \u001b[34mloss\u001b[m\u001b[m             run_inference.sh\r\n"
     ]
    }
   ],
   "source": [
    "! ls"
   ]
  },
  {
   "cell_type": "code",
   "execution_count": 5,
   "metadata": {},
   "outputs": [],
   "source": [
    "! rm -rf csv_test.csv"
   ]
  },
  {
   "cell_type": "code",
   "execution_count": 3,
   "metadata": {},
   "outputs": [
    {
     "data": {
      "text/html": [
       "<div>\n",
       "<style scoped>\n",
       "    .dataframe tbody tr th:only-of-type {\n",
       "        vertical-align: middle;\n",
       "    }\n",
       "\n",
       "    .dataframe tbody tr th {\n",
       "        vertical-align: top;\n",
       "    }\n",
       "\n",
       "    .dataframe thead th {\n",
       "        text-align: right;\n",
       "    }\n",
       "</style>\n",
       "<table border=\"1\" class=\"dataframe\">\n",
       "  <thead>\n",
       "    <tr style=\"text-align: right;\">\n",
       "      <th></th>\n",
       "      <th>0</th>\n",
       "      <th>1</th>\n",
       "      <th>2</th>\n",
       "      <th>3</th>\n",
       "      <th>4</th>\n",
       "      <th>5</th>\n",
       "      <th>6</th>\n",
       "      <th>7</th>\n",
       "      <th>8</th>\n",
       "      <th>9</th>\n",
       "      <th>...</th>\n",
       "      <th>39</th>\n",
       "      <th>40</th>\n",
       "      <th>41</th>\n",
       "      <th>42</th>\n",
       "      <th>43</th>\n",
       "      <th>44</th>\n",
       "      <th>45</th>\n",
       "      <th>46</th>\n",
       "      <th>47</th>\n",
       "      <th>48</th>\n",
       "    </tr>\n",
       "  </thead>\n",
       "  <tbody>\n",
       "    <tr>\n",
       "      <th>0</th>\n",
       "      <td>4</td>\n",
       "      <td>569</td>\n",
       "      <td>1.037577</td>\n",
       "      <td>1365</td>\n",
       "      <td>1.021669</td>\n",
       "      <td>1359</td>\n",
       "      <td>0.994531</td>\n",
       "      <td>1277</td>\n",
       "      <td>0.994014</td>\n",
       "      <td>1366</td>\n",
       "      <td>...</td>\n",
       "      <td>309</td>\n",
       "      <td>0.760955</td>\n",
       "      <td>6</td>\n",
       "      <td>0.757213</td>\n",
       "      <td>695</td>\n",
       "      <td>0.747482</td>\n",
       "      <td>1892</td>\n",
       "      <td>0.718402</td>\n",
       "      <td>5</td>\n",
       "      <td>0.683794</td>\n",
       "    </tr>\n",
       "    <tr>\n",
       "      <th>1</th>\n",
       "      <td>307</td>\n",
       "      <td>1365</td>\n",
       "      <td>1.051894</td>\n",
       "      <td>1366</td>\n",
       "      <td>1.023202</td>\n",
       "      <td>1277</td>\n",
       "      <td>1.020960</td>\n",
       "      <td>569</td>\n",
       "      <td>1.015718</td>\n",
       "      <td>1817</td>\n",
       "      <td>...</td>\n",
       "      <td>1888</td>\n",
       "      <td>0.837090</td>\n",
       "      <td>5</td>\n",
       "      <td>0.823169</td>\n",
       "      <td>1892</td>\n",
       "      <td>0.801036</td>\n",
       "      <td>306</td>\n",
       "      <td>0.586959</td>\n",
       "      <td>309</td>\n",
       "      <td>0.499539</td>\n",
       "    </tr>\n",
       "    <tr>\n",
       "      <th>2</th>\n",
       "      <td>576</td>\n",
       "      <td>1366</td>\n",
       "      <td>1.108611</td>\n",
       "      <td>1817</td>\n",
       "      <td>1.090967</td>\n",
       "      <td>1820</td>\n",
       "      <td>1.074662</td>\n",
       "      <td>6</td>\n",
       "      <td>1.072943</td>\n",
       "      <td>1637</td>\n",
       "      <td>...</td>\n",
       "      <td>569</td>\n",
       "      <td>0.966074</td>\n",
       "      <td>1359</td>\n",
       "      <td>0.958341</td>\n",
       "      <td>777</td>\n",
       "      <td>0.947829</td>\n",
       "      <td>1278</td>\n",
       "      <td>0.939739</td>\n",
       "      <td>588</td>\n",
       "      <td>0.884583</td>\n",
       "    </tr>\n",
       "  </tbody>\n",
       "</table>\n",
       "<p>3 rows × 49 columns</p>\n",
       "</div>"
      ],
      "text/plain": [
       "    0     1         2     3         4     5         6     7         8     9   \\\n",
       "0    4   569  1.037577  1365  1.021669  1359  0.994531  1277  0.994014  1366   \n",
       "1  307  1365  1.051894  1366  1.023202  1277  1.020960   569  1.015718  1817   \n",
       "2  576  1366  1.108611  1817  1.090967  1820  1.074662     6  1.072943  1637   \n",
       "\n",
       "   ...    39        40    41        42    43        44    45        46   47  \\\n",
       "0  ...   309  0.760955     6  0.757213   695  0.747482  1892  0.718402    5   \n",
       "1  ...  1888  0.837090     5  0.823169  1892  0.801036   306  0.586959  309   \n",
       "2  ...   569  0.966074  1359  0.958341   777  0.947829  1278  0.939739  588   \n",
       "\n",
       "         48  \n",
       "0  0.683794  \n",
       "1  0.499539  \n",
       "2  0.884583  \n",
       "\n",
       "[3 rows x 49 columns]"
      ]
     },
     "execution_count": 3,
     "metadata": {},
     "output_type": "execute_result"
    }
   ],
   "source": [
    "# read \n",
    "data = pd.read_csv('csv_test.csv',header=None)\n",
    "data"
   ]
  },
  {
   "cell_type": "code",
   "execution_count": null,
   "metadata": {},
   "outputs": [],
   "source": []
  }
 ],
 "metadata": {
  "kernelspec": {
   "display_name": "Python 3",
   "language": "python",
   "name": "python3"
  },
  "language_info": {
   "codemirror_mode": {
    "name": "ipython",
    "version": 3
   },
   "file_extension": ".py",
   "mimetype": "text/x-python",
   "name": "python",
   "nbconvert_exporter": "python",
   "pygments_lexer": "ipython3",
   "version": "3.7.6"
  }
 },
 "nbformat": 4,
 "nbformat_minor": 2
}
